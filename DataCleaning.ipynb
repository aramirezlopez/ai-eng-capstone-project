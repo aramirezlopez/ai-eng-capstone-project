{
  "cells": [
    {
      "cell_type": "code",
      "execution_count": 1,
      "metadata": {
        "gather": {
          "logged": 1709544032877
        }
      },
      "outputs": [],
      "source": [
        "import pandas as pd"
      ]
    },
    {
      "cell_type": "markdown",
      "metadata": {},
      "source": [
        "# Data Cleaning"
      ]
    },
    {
      "cell_type": "markdown",
      "metadata": {},
      "source": [
        "In this notebook we will perform the data cleaning from a more engineer point of view. We will check for consistency, analyze possible errors in the data (missing values, outliers) and drop duplicated information"
      ]
    },
    {
      "cell_type": "code",
      "execution_count": 2,
      "metadata": {
        "gather": {
          "logged": 1709544106694
        },
        "jupyter": {
          "outputs_hidden": false,
          "source_hidden": false
        },
        "nteract": {
          "transient": {
            "deleting": false
          }
        }
      },
      "outputs": [],
      "source": [
        "dataset = pd.read_csv('data/raw/amazon_fine_food_reviews.csv')"
      ]
    },
    {
      "cell_type": "markdown",
      "metadata": {},
      "source": [
        "Missing values in ProfileName and Summary but not in Text and Score that will be our top priority features"
      ]
    },
    {
      "cell_type": "code",
      "execution_count": 3,
      "metadata": {
        "gather": {
          "logged": 1709548038844
        },
        "jupyter": {
          "outputs_hidden": false,
          "source_hidden": false
        },
        "nteract": {
          "transient": {
            "deleting": false
          }
        }
      },
      "outputs": [
        {
          "data": {
            "text/plain": [
              "Id                         0\n",
              "ProductId                  0\n",
              "UserId                     0\n",
              "ProfileName               16\n",
              "HelpfulnessNumerator       0\n",
              "HelpfulnessDenominator     0\n",
              "Score                      0\n",
              "Time                       0\n",
              "Summary                   27\n",
              "Text                       0\n",
              "dtype: int64"
            ]
          },
          "execution_count": 3,
          "metadata": {},
          "output_type": "execute_result"
        }
      ],
      "source": [
        "dataset.isnull().sum()"
      ]
    },
    {
      "cell_type": "code",
      "execution_count": 4,
      "metadata": {
        "gather": {
          "logged": 1709544160742
        },
        "jupyter": {
          "outputs_hidden": false,
          "source_hidden": false
        },
        "nteract": {
          "transient": {
            "deleting": false
          }
        }
      },
      "outputs": [
        {
          "data": {
            "text/plain": [
              "5    363122\n",
              "4     80655\n",
              "1     52268\n",
              "3     42640\n",
              "2     29769\n",
              "Name: Score, dtype: int64"
            ]
          },
          "execution_count": 4,
          "metadata": {},
          "output_type": "execute_result"
        }
      ],
      "source": [
        "dataset.Score.value_counts()"
      ]
    },
    {
      "cell_type": "markdown",
      "metadata": {},
      "source": [
        "### Helpfulness review"
      ]
    },
    {
      "cell_type": "markdown",
      "metadata": {},
      "source": [
        "Helpfulness Numerator: Number of users who found the review helpful\n",
        "\n",
        "Helpfulness Denominator: Number of users who indicated whether they found the review helpful or not\n",
        "\n",
        "Considering this, possible feature:\n",
        "- NotHelpfull instead of the helpfulness denominator\n",
        "- Percentage of helpfulness"
      ]
    },
    {
      "cell_type": "code",
      "execution_count": 5,
      "metadata": {
        "gather": {
          "logged": 1709544255071
        },
        "jupyter": {
          "outputs_hidden": false,
          "source_hidden": false
        },
        "nteract": {
          "transient": {
            "deleting": false
          }
        }
      },
      "outputs": [
        {
          "data": {
            "text/plain": [
              "0.7975333096433485"
            ]
          },
          "execution_count": 5,
          "metadata": {},
          "output_type": "execute_result"
        }
      ],
      "source": [
        "(dataset.HelpfulnessNumerator == dataset.HelpfulnessDenominator).sum() / dataset.shape[0]"
      ]
    },
    {
      "cell_type": "code",
      "execution_count": 6,
      "metadata": {},
      "outputs": [
        {
          "data": {
            "text/plain": [
              "2"
            ]
          },
          "execution_count": 6,
          "metadata": {},
          "output_type": "execute_result"
        }
      ],
      "source": [
        "(dataset.HelpfulnessDenominator < dataset.HelpfulnessNumerator).sum()"
      ]
    },
    {
      "cell_type": "code",
      "execution_count": 7,
      "metadata": {},
      "outputs": [
        {
          "data": {
            "text/html": [
              "<div>\n",
              "<style scoped>\n",
              "    .dataframe tbody tr th:only-of-type {\n",
              "        vertical-align: middle;\n",
              "    }\n",
              "\n",
              "    .dataframe tbody tr th {\n",
              "        vertical-align: top;\n",
              "    }\n",
              "\n",
              "    .dataframe thead th {\n",
              "        text-align: right;\n",
              "    }\n",
              "</style>\n",
              "<table border=\"1\" class=\"dataframe\">\n",
              "  <thead>\n",
              "    <tr style=\"text-align: right;\">\n",
              "      <th></th>\n",
              "      <th>Id</th>\n",
              "      <th>ProductId</th>\n",
              "      <th>UserId</th>\n",
              "      <th>ProfileName</th>\n",
              "      <th>HelpfulnessNumerator</th>\n",
              "      <th>HelpfulnessDenominator</th>\n",
              "      <th>Score</th>\n",
              "      <th>Time</th>\n",
              "      <th>Summary</th>\n",
              "      <th>Text</th>\n",
              "    </tr>\n",
              "  </thead>\n",
              "  <tbody>\n",
              "    <tr>\n",
              "      <th>44736</th>\n",
              "      <td>44737</td>\n",
              "      <td>B001EQ55RW</td>\n",
              "      <td>A2V0I904FH7ABY</td>\n",
              "      <td>Ram</td>\n",
              "      <td>3</td>\n",
              "      <td>2</td>\n",
              "      <td>4</td>\n",
              "      <td>1212883200</td>\n",
              "      <td>Pure cocoa taste with crunchy almonds inside</td>\n",
              "      <td>It was almost a 'love at first bite' - the per...</td>\n",
              "    </tr>\n",
              "    <tr>\n",
              "      <th>64421</th>\n",
              "      <td>64422</td>\n",
              "      <td>B000MIDROQ</td>\n",
              "      <td>A161DK06JJMCYF</td>\n",
              "      <td>J. E. Stephens \"Jeanne\"</td>\n",
              "      <td>3</td>\n",
              "      <td>1</td>\n",
              "      <td>5</td>\n",
              "      <td>1224892800</td>\n",
              "      <td>Bought This for My Son at College</td>\n",
              "      <td>My son loves spaghetti so I didn't hesitate or...</td>\n",
              "    </tr>\n",
              "  </tbody>\n",
              "</table>\n",
              "</div>"
            ],
            "text/plain": [
              "          Id   ProductId          UserId              ProfileName  \\\n",
              "44736  44737  B001EQ55RW  A2V0I904FH7ABY                      Ram   \n",
              "64421  64422  B000MIDROQ  A161DK06JJMCYF  J. E. Stephens \"Jeanne\"   \n",
              "\n",
              "       HelpfulnessNumerator  HelpfulnessDenominator  Score        Time  \\\n",
              "44736                     3                       2      4  1212883200   \n",
              "64421                     3                       1      5  1224892800   \n",
              "\n",
              "                                            Summary  \\\n",
              "44736  Pure cocoa taste with crunchy almonds inside   \n",
              "64421             Bought This for My Son at College   \n",
              "\n",
              "                                                    Text  \n",
              "44736  It was almost a 'love at first bite' - the per...  \n",
              "64421  My son loves spaghetti so I didn't hesitate or...  "
            ]
          },
          "execution_count": 7,
          "metadata": {},
          "output_type": "execute_result"
        }
      ],
      "source": [
        "dataset[dataset.HelpfulnessDenominator < dataset.HelpfulnessNumerator]"
      ]
    },
    {
      "cell_type": "markdown",
      "metadata": {},
      "source": [
        "We see that there are two rows with inconsistencies in the data since the numerator is greater than the numerator"
      ]
    },
    {
      "cell_type": "markdown",
      "metadata": {},
      "source": [
        "## Analyzing duplicates"
      ]
    },
    {
      "cell_type": "markdown",
      "metadata": {},
      "source": [
        "We have considered 3 possible subsets for being a duplicate:\n",
        "\n",
        "- All columns equal: there is none\n",
        "- user and text the same: we dropped those which had the same user and text, considering them the same review.\n",
        "- user and time the same: since the time is in days, it has been discarded because after a brief analysis we discovered that there were genuine different reviews.\n",
        "\n",
        "For the process of which one keep, we considered to keep the last one and if they are both the same (because after a brief analysis we discovered only a few had different times in the same user and text), we would keep the one with more information in the helfulness columns. But after keeping only the text for the models, we decided to only keep the last that occured. \n",
        "\n",
        "One more thing to do for checking the consistency would be check if the score is the same in both reviews."
      ]
    },
    {
      "cell_type": "code",
      "execution_count": 8,
      "metadata": {
        "gather": {
          "logged": 1709544606907
        },
        "jupyter": {
          "outputs_hidden": false,
          "source_hidden": false
        },
        "nteract": {
          "transient": {
            "deleting": false
          }
        }
      },
      "outputs": [
        {
          "data": {
            "text/plain": [
              "0"
            ]
          },
          "execution_count": 8,
          "metadata": {},
          "output_type": "execute_result"
        }
      ],
      "source": [
        "dataset.duplicated().sum()"
      ]
    },
    {
      "cell_type": "code",
      "execution_count": 9,
      "metadata": {
        "gather": {
          "logged": 1709544824800
        },
        "jupyter": {
          "outputs_hidden": false,
          "source_hidden": false
        },
        "nteract": {
          "transient": {
            "deleting": false
          }
        }
      },
      "outputs": [],
      "source": [
        "text_user_duplicated = dataset[dataset.duplicated(subset=['UserId', 'Text'])]"
      ]
    },
    {
      "cell_type": "code",
      "execution_count": 10,
      "metadata": {
        "gather": {
          "logged": 1709544824929
        },
        "jupyter": {
          "outputs_hidden": false,
          "source_hidden": false
        },
        "nteract": {
          "transient": {
            "deleting": false
          }
        }
      },
      "outputs": [],
      "source": [
        "time_user_duplicated = dataset[dataset.duplicated(subset=['UserId', 'Time'])]"
      ]
    },
    {
      "cell_type": "markdown",
      "metadata": {},
      "source": [
        "### Converting date into datetime"
      ]
    },
    {
      "cell_type": "code",
      "execution_count": 11,
      "metadata": {
        "gather": {
          "logged": 1709546178285
        },
        "jupyter": {
          "outputs_hidden": false,
          "source_hidden": false
        },
        "nteract": {
          "transient": {
            "deleting": false
          }
        }
      },
      "outputs": [],
      "source": [
        "dataset['date'] = pd.to_datetime(dataset['Time'], unit='s')"
      ]
    },
    {
      "cell_type": "markdown",
      "metadata": {
        "nteract": {
          "transient": {
            "deleting": false
          }
        }
      },
      "source": [
        "## Mini-checks of data consistency"
      ]
    },
    {
      "cell_type": "markdown",
      "metadata": {},
      "source": [
        "## ProfileName and userId?"
      ]
    },
    {
      "cell_type": "markdown",
      "metadata": {},
      "source": [
        "After analyzing the results, we have dropped the ProfileName. UserId is more consistent for tracking the user, since the ProfileName can change or be anonymous ('A customer'). It could be useful in a very far approach by trying to consider the gender, some demographic information or some analysis in possible change of behaviour when having an open name or not. But it's out of the scope of this analysis."
      ]
    },
    {
      "cell_type": "code",
      "execution_count": 12,
      "metadata": {
        "gather": {
          "logged": 1709545400611
        },
        "jupyter": {
          "outputs_hidden": false,
          "source_hidden": false
        },
        "nteract": {
          "transient": {
            "deleting": false
          }
        }
      },
      "outputs": [],
      "source": [
        "profname_by_userid = dataset.groupby('UserId').agg({'ProfileName': set})"
      ]
    },
    {
      "cell_type": "code",
      "execution_count": 13,
      "metadata": {
        "gather": {
          "logged": 1709545482292
        },
        "jupyter": {
          "outputs_hidden": false,
          "source_hidden": false
        },
        "nteract": {
          "transient": {
            "deleting": false
          }
        }
      },
      "outputs": [
        {
          "data": {
            "text/plain": [
              "0.9998047325030559"
            ]
          },
          "execution_count": 13,
          "metadata": {},
          "output_type": "execute_result"
        }
      ],
      "source": [
        "(profname_by_userid.ProfileName.str.len() == 1).sum() / profname_by_userid.shape[0]"
      ]
    },
    {
      "cell_type": "code",
      "execution_count": 14,
      "metadata": {
        "gather": {
          "logged": 1709545506238
        },
        "jupyter": {
          "outputs_hidden": false,
          "source_hidden": false
        },
        "nteract": {
          "transient": {
            "deleting": false
          }
        }
      },
      "outputs": [
        {
          "data": {
            "text/html": [
              "<div>\n",
              "<style scoped>\n",
              "    .dataframe tbody tr th:only-of-type {\n",
              "        vertical-align: middle;\n",
              "    }\n",
              "\n",
              "    .dataframe tbody tr th {\n",
              "        vertical-align: top;\n",
              "    }\n",
              "\n",
              "    .dataframe thead th {\n",
              "        text-align: right;\n",
              "    }\n",
              "</style>\n",
              "<table border=\"1\" class=\"dataframe\">\n",
              "  <thead>\n",
              "    <tr style=\"text-align: right;\">\n",
              "      <th></th>\n",
              "      <th>ProfileName</th>\n",
              "    </tr>\n",
              "    <tr>\n",
              "      <th>UserId</th>\n",
              "      <th></th>\n",
              "    </tr>\n",
              "  </thead>\n",
              "  <tbody>\n",
              "    <tr>\n",
              "      <th>A11CK6P4SLO6RU</th>\n",
              "      <td>{A Customer, K. Dresser}</td>\n",
              "    </tr>\n",
              "    <tr>\n",
              "      <th>A13K3ZLWAWN1EI</th>\n",
              "      <td>{A Customer, yogagirl \"grrrl\"}</td>\n",
              "    </tr>\n",
              "    <tr>\n",
              "      <th>A16YH487W9ZYO0</th>\n",
              "      <td>{A Customer, Bruce G. Lindsay}</td>\n",
              "    </tr>\n",
              "    <tr>\n",
              "      <th>A1A0MBT5LKK8U9</th>\n",
              "      <td>{Lance, A Customer}</td>\n",
              "    </tr>\n",
              "    <tr>\n",
              "      <th>A1CRT2UI0YIOQN</th>\n",
              "      <td>{A Customer, Krista}</td>\n",
              "    </tr>\n",
              "  </tbody>\n",
              "</table>\n",
              "</div>"
            ],
            "text/plain": [
              "                                   ProfileName\n",
              "UserId                                        \n",
              "A11CK6P4SLO6RU        {A Customer, K. Dresser}\n",
              "A13K3ZLWAWN1EI  {A Customer, yogagirl \"grrrl\"}\n",
              "A16YH487W9ZYO0  {A Customer, Bruce G. Lindsay}\n",
              "A1A0MBT5LKK8U9             {Lance, A Customer}\n",
              "A1CRT2UI0YIOQN            {A Customer, Krista}"
            ]
          },
          "execution_count": 14,
          "metadata": {},
          "output_type": "execute_result"
        }
      ],
      "source": [
        "profname_by_userid[profname_by_userid.ProfileName.str.len() != 1].head()"
      ]
    },
    {
      "cell_type": "markdown",
      "metadata": {},
      "source": [
        "### Text and summary"
      ]
    },
    {
      "cell_type": "markdown",
      "metadata": {},
      "source": [
        "The same text doesn't have the same summary, so we have decided to drop the column. This summary isn't very good overall. However, using this or an alternative summary, could be useful maybe if the model that performs the summary + smaller model trained with summaries, is smaller than the current one and it also overcomes the overheat of having two models, then it could be used as an alternative version of the model."
      ]
    },
    {
      "cell_type": "code",
      "execution_count": 15,
      "metadata": {
        "gather": {
          "logged": 1709546267232
        },
        "jupyter": {
          "outputs_hidden": false,
          "source_hidden": false
        },
        "nteract": {
          "transient": {
            "deleting": false
          }
        }
      },
      "outputs": [],
      "source": [
        "text_by_summary = dataset.groupby('Text').agg({'Summary': set})"
      ]
    },
    {
      "cell_type": "markdown",
      "metadata": {
        "nteract": {
          "transient": {
            "deleting": false
          }
        }
      },
      "source": [
        "Maybe first approach using indistinctly one of them and see if we can get a better summary with one of the AI services"
      ]
    },
    {
      "cell_type": "code",
      "execution_count": 16,
      "metadata": {
        "gather": {
          "logged": 1709546388282
        },
        "jupyter": {
          "outputs_hidden": false,
          "source_hidden": false
        },
        "nteract": {
          "transient": {
            "deleting": false
          }
        }
      },
      "outputs": [
        {
          "data": {
            "text/html": [
              "<div>\n",
              "<style scoped>\n",
              "    .dataframe tbody tr th:only-of-type {\n",
              "        vertical-align: middle;\n",
              "    }\n",
              "\n",
              "    .dataframe tbody tr th {\n",
              "        vertical-align: top;\n",
              "    }\n",
              "\n",
              "    .dataframe thead th {\n",
              "        text-align: right;\n",
              "    }\n",
              "</style>\n",
              "<table border=\"1\" class=\"dataframe\">\n",
              "  <thead>\n",
              "    <tr style=\"text-align: right;\">\n",
              "      <th></th>\n",
              "      <th>Summary</th>\n",
              "    </tr>\n",
              "    <tr>\n",
              "      <th>Text</th>\n",
              "      <th></th>\n",
              "    </tr>\n",
              "  </thead>\n",
              "  <tbody>\n",
              "    <tr>\n",
              "      <th>\"4C Totally Light\" is one of the very few \"sugar free\" products of it's type to use safer and better tasteing sucralose(Splenda) over Aspertame.&lt;br /&gt;&lt;br /&gt;Very tasty drink, especially when served over ice!</th>\n",
              "      <td>{4C Totally Light, Better Sweetener!}</td>\n",
              "    </tr>\n",
              "    <tr>\n",
              "      <th>\"By far the best cup of coffee ever!!!\". I received a Keurig machine as a gift for my birthday and had been using the regular run of the mill products that were available. Then low and behold I found the San Francisco Bay brand of one cup brewing pods and you could not pay to stop using them! By far the best cup of coffee ever, every single</th>\n",
              "      <td>{Organic never tasted better!, Looooove It!}</td>\n",
              "    </tr>\n",
              "    <tr>\n",
              "      <th>\"Erythritol\" has become one of our favorite sugar substitutes since I became diabetic a few years ago. My wife uses a little bit of added sugar to bring the sweetness up for the rest of the family in things that need it, but I am happy with it as a one-to-one replacement for sugar in most things.&lt;br /&gt;&lt;br /&gt;I have not noticed any glycemic impact to my blood sugar or \"laxative\" effects seen with other sugar alcohol sweeteners (which is a very important consideration :-)&lt;br /&gt;&lt;br /&gt;Highly recommended!&lt;br /&gt;&lt;br /&gt;CFH</th>\n",
              "      <td>{Great Diabetic Friendly Sweetener - Highly Re...</td>\n",
              "    </tr>\n",
              "    <tr>\n",
              "      <th>\"Splenda\" is one of my favorite things ever! Being a Type 2 Diabetic, I am always looking for sweet tasting snacks and drinks that will not effect my blood sugar levels. Splenda makes it possible for us to have sweet baked goods, sweet ice tea and coffee again since I don't like \"Nutra-Sweet\" or \"Sweet and Low\"&lt;br /&gt;&lt;br /&gt;Like most diet products it is not perfect and Splenda does not taste quite as good as regular sugar, but it is as close as we have found. It is really very satisfying and has no calories as well.&lt;br /&gt;&lt;br /&gt;Highly recommended!</th>\n",
              "      <td>{Great Diabetic Friendly Sweetner! Highly Reco...</td>\n",
              "    </tr>\n",
              "    <tr>\n",
              "      <th>\"Swiss Miss No Sugar Added Hot Cocoa\" is a very good Hot Chocolate drink mix! Being a Type 2 Diabetic, I am always looking for sweet tasting snacks and drinks that will not effect my blood sugar levels.&lt;br /&gt;&lt;br /&gt;Like most diet products, this does not taste quite as good as the regular version, but it is as close as we have found. It is really very satisfying and low in calories as well.&lt;br /&gt;&lt;br /&gt;Highly recommended!</th>\n",
              "      <td>{Really Good Diet Hot Chocolate! Recommended, ...</td>\n",
              "    </tr>\n",
              "  </tbody>\n",
              "</table>\n",
              "</div>"
            ],
            "text/plain": [
              "                                                                                              Summary\n",
              "Text                                                                                                 \n",
              "\"4C Totally Light\" is one of the very few \"suga...              {4C Totally Light, Better Sweetener!}\n",
              "\"By far the best cup of coffee ever!!!\". I rece...       {Organic never tasted better!, Looooove It!}\n",
              "\"Erythritol\" has become one of our favorite sug...  {Great Diabetic Friendly Sweetener - Highly Re...\n",
              "\"Splenda\" is one of my favorite things ever! Be...  {Great Diabetic Friendly Sweetner! Highly Reco...\n",
              "\"Swiss Miss No Sugar Added Hot Cocoa\" is a very...  {Really Good Diet Hot Chocolate! Recommended, ..."
            ]
          },
          "execution_count": 16,
          "metadata": {},
          "output_type": "execute_result"
        }
      ],
      "source": [
        "text_by_summary[text_by_summary.Summary.str.len() != 1].head()"
      ]
    },
    {
      "cell_type": "markdown",
      "metadata": {},
      "source": [
        "## Function to wrap all the cleaning"
      ]
    },
    {
      "cell_type": "markdown",
      "metadata": {},
      "source": [
        "Considerations:\n",
        "\n",
        "- Duplicated rows considered by the same userid and text are dropped\n",
        "- Id as index\n",
        "- ProfileName and Summary columns drops\n",
        "- Since the helpfulness columns are going to be discarded for the model and since they are an insificant number, we will keep the inconsistent rows."
      ]
    },
    {
      "cell_type": "code",
      "execution_count": 17,
      "metadata": {
        "jupyter": {
          "outputs_hidden": false,
          "source_hidden": false
        },
        "nteract": {
          "transient": {
            "deleting": false
          }
        }
      },
      "outputs": [],
      "source": [
        "def basic_dataset_cleaning(data):\n",
        "    duplicated_mask = data.sort_values('Time').duplicated(subset=['UserId', 'Text'], keep='last')\n",
        "    new_dataset = data.drop(duplicated_mask[duplicated_mask].index, axis=0)\n",
        "    new_dataset.index = new_dataset['Id']\n",
        "    new_dataset.drop(['ProfileName', 'Summary', 'Id'], axis=1, inplace=True)\n",
        "    new_dataset['Time'] = pd.to_datetime(data['Time'], unit='s')\n",
        "    return new_dataset"
      ]
    },
    {
      "cell_type": "code",
      "execution_count": 18,
      "metadata": {},
      "outputs": [
        {
          "data": {
            "text/html": [
              "<div>\n",
              "<style scoped>\n",
              "    .dataframe tbody tr th:only-of-type {\n",
              "        vertical-align: middle;\n",
              "    }\n",
              "\n",
              "    .dataframe tbody tr th {\n",
              "        vertical-align: top;\n",
              "    }\n",
              "\n",
              "    .dataframe thead th {\n",
              "        text-align: right;\n",
              "    }\n",
              "</style>\n",
              "<table border=\"1\" class=\"dataframe\">\n",
              "  <thead>\n",
              "    <tr style=\"text-align: right;\">\n",
              "      <th></th>\n",
              "      <th>ProductId</th>\n",
              "      <th>UserId</th>\n",
              "      <th>HelpfulnessNumerator</th>\n",
              "      <th>HelpfulnessDenominator</th>\n",
              "      <th>Score</th>\n",
              "      <th>Time</th>\n",
              "      <th>Text</th>\n",
              "      <th>date</th>\n",
              "    </tr>\n",
              "    <tr>\n",
              "      <th>Id</th>\n",
              "      <th></th>\n",
              "      <th></th>\n",
              "      <th></th>\n",
              "      <th></th>\n",
              "      <th></th>\n",
              "      <th></th>\n",
              "      <th></th>\n",
              "      <th></th>\n",
              "    </tr>\n",
              "  </thead>\n",
              "  <tbody>\n",
              "    <tr>\n",
              "      <th>44737</th>\n",
              "      <td>B001EQ55RW</td>\n",
              "      <td>A2V0I904FH7ABY</td>\n",
              "      <td>3</td>\n",
              "      <td>2</td>\n",
              "      <td>4</td>\n",
              "      <td>2008-06-05</td>\n",
              "      <td>It was almost a 'love at first bite' - the per...</td>\n",
              "      <td>2008-06-08</td>\n",
              "    </tr>\n",
              "    <tr>\n",
              "      <th>64422</th>\n",
              "      <td>B000MIDROQ</td>\n",
              "      <td>A161DK06JJMCYF</td>\n",
              "      <td>3</td>\n",
              "      <td>1</td>\n",
              "      <td>5</td>\n",
              "      <td>2008-08-05</td>\n",
              "      <td>My son loves spaghetti so I didn't hesitate or...</td>\n",
              "      <td>2008-10-25</td>\n",
              "    </tr>\n",
              "  </tbody>\n",
              "</table>\n",
              "</div>"
            ],
            "text/plain": [
              "        ProductId          UserId  HelpfulnessNumerator  \\\n",
              "Id                                                        \n",
              "44737  B001EQ55RW  A2V0I904FH7ABY                     3   \n",
              "64422  B000MIDROQ  A161DK06JJMCYF                     3   \n",
              "\n",
              "       HelpfulnessDenominator  Score       Time  \\\n",
              "Id                                                \n",
              "44737                       2      4 2008-06-05   \n",
              "64422                       1      5 2008-08-05   \n",
              "\n",
              "                                                    Text       date  \n",
              "Id                                                                   \n",
              "44737  It was almost a 'love at first bite' - the per... 2008-06-08  \n",
              "64422  My son loves spaghetti so I didn't hesitate or... 2008-10-25  "
            ]
          },
          "execution_count": 18,
          "metadata": {},
          "output_type": "execute_result"
        }
      ],
      "source": [
        "new_dataset = basic_dataset_cleaning(dataset)\n",
        "new_dataset[new_dataset.HelpfulnessDenominator < new_dataset.HelpfulnessNumerator]"
      ]
    },
    {
      "cell_type": "code",
      "execution_count": null,
      "metadata": {},
      "outputs": [],
      "source": []
    }
  ],
  "metadata": {
    "kernel_info": {
      "name": "python310-sdkv2"
    },
    "kernelspec": {
      "display_name": "academy",
      "language": "python",
      "name": "python3"
    },
    "language_info": {
      "codemirror_mode": {
        "name": "ipython",
        "version": 3
      },
      "file_extension": ".py",
      "mimetype": "text/x-python",
      "name": "python",
      "nbconvert_exporter": "python",
      "pygments_lexer": "ipython3",
      "version": "3.10.13"
    },
    "microsoft": {
      "host": {
        "AzureML": {
          "notebookHasBeenCompleted": true
        }
      },
      "ms_spell_check": {
        "ms_spell_check_language": "en"
      }
    },
    "nteract": {
      "version": "nteract-front-end@1.0.0"
    }
  },
  "nbformat": 4,
  "nbformat_minor": 2
}
