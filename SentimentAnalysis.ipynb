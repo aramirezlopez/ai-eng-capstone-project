{
 "cells": [
  {
   "cell_type": "code",
   "execution_count": 1,
   "id": "ef5eba50",
   "metadata": {},
   "outputs": [
    {
     "name": "stderr",
     "output_type": "stream",
     "text": [
      "[nltk_data] Downloading package vader_lexicon to\n",
      "[nltk_data]     C:\\Users\\a.ramirez.lopez\\AppData\\Roaming\\nltk_data...\n"
     ]
    },
    {
     "data": {
      "text/plain": [
       "True"
      ]
     },
     "execution_count": 1,
     "metadata": {},
     "output_type": "execute_result"
    }
   ],
   "source": [
    "import pandas as pd\n",
    "import matplotlib.pyplot as plt\n",
    "import seaborn as sns\n",
    "import nltk\n",
    "from nltk.sentiment import SentimentIntensityAnalyzer\n",
    "%matplotlib inline\n",
    "\n",
    "nltk.download('vader_lexicon')"
   ]
  },
  {
   "cell_type": "markdown",
   "id": "00717033",
   "metadata": {},
   "source": [
    "# Sentiment Analysis"
   ]
  },
  {
   "cell_type": "markdown",
   "id": "205d2d65",
   "metadata": {},
   "source": [
    "In this notebook we will use the nltk sentiment analysis model to use it as a support for our model. The notebook is only a test for saving the model and see the results it predicts.\n",
    "\n",
    "This is a step in the final model that find mismatches in the data. This is intended to be used along with the propietary model to have an ensemble of the two models. A previous phase would be study if they mismatch the same examples or not to see how independent are. Also, focusing in the examples they both mismatch, if the mismatch makes sense from a human point of view or they are both wrong."
   ]
  },
  {
   "cell_type": "code",
   "execution_count": 6,
   "id": "8a1522e5",
   "metadata": {},
   "outputs": [],
   "source": [
    "df_loaded = pd.read_csv('processed_text_with_all.csv')\n",
    "df_loaded = df_loaded.dropna()"
   ]
  },
  {
   "cell_type": "code",
   "execution_count": null,
   "id": "a785ab35",
   "metadata": {},
   "outputs": [],
   "source": [
    "sid = SentimentIntensityAnalyzer()\n",
    "\n",
    "# Define a function to analyze polarity\n",
    "def analyze_polarity(text):\n",
    "    sentiment_score = sid.polarity_scores(text)['compound']\n",
    "    return sentiment_score\n",
    "\n",
    "# Add a polarity column to the copied DataFrame\n",
    "df_loaded['Polarity'] = df_loaded.head(100)['Text'].apply(analyze_polarity)"
   ]
  },
  {
   "cell_type": "code",
   "execution_count": 13,
   "id": "e0e9a1b9",
   "metadata": {},
   "outputs": [],
   "source": [
    "def classify_sentiment(polarity):\n",
    "    if polarity >= 0.5:\n",
    "        return 'Positive'\n",
    "    elif polarity <= -0.5:\n",
    "        return 'Negative'\n",
    "    else:\n",
    "        return 'Neutral'\n",
    "\n",
    "# Apply the function to create the new column\n",
    "df_loaded['Sentiment'] = df_loaded['Polarity'].apply(classify_sentiment)"
   ]
  },
  {
   "cell_type": "markdown",
   "id": "2bc014a3",
   "metadata": {},
   "source": [
    "We load the dataset with the polarities which we arleady computed since it takes a while to run the SentimentIntensityAnalyzer over all the dataframe"
   ]
  },
  {
   "cell_type": "code",
   "execution_count": 20,
   "id": "0a9f86c4",
   "metadata": {},
   "outputs": [],
   "source": [
    "df_withpola = pd.read_csv('df_with_polarity.csv')"
   ]
  },
  {
   "cell_type": "code",
   "execution_count": 25,
   "id": "1538ca67",
   "metadata": {},
   "outputs": [],
   "source": [
    "df_withpola['Sentiment'] = df_withpola['Polarity'].apply(classify_sentiment)"
   ]
  },
  {
   "cell_type": "markdown",
   "id": "d73f7d1c",
   "metadata": {},
   "source": [
    "## Sentiment distribution"
   ]
  },
  {
   "cell_type": "code",
   "execution_count": 29,
   "id": "71303396",
   "metadata": {},
   "outputs": [
    {
     "data": {
      "image/png": "[encoded data removed]",
      "text/plain": [
       "<Figure size 800x600 with 1 Axes>"
      ]
     },
     "metadata": {},
     "output_type": "display_data"
    }
   ],
   "source": [
    "plt.figure(figsize=(8, 6))\n",
    "sns.countplot(x='Sentiment', data=df_withpola, palette='Set2')\n",
    "plt.xlabel('Sentiment')\n",
    "plt.ylabel('Count')\n",
    "plt.title('Distribution of Sentiment Classes')\n",
    "plt.show()"
   ]
  },
  {
   "cell_type": "markdown",
   "id": "fdb2cf2d",
   "metadata": {},
   "source": [
    "Now that we have the polarity we look for negative sentiments and positive labels and viceversa\n"
   ]
  },
  {
   "cell_type": "code",
   "execution_count": null,
   "id": "97602afe",
   "metadata": {},
   "outputs": [],
   "source": [
    "negative_sentiments = df_withpola[(df_withpola['Labels'] == 1) & (df_withpola['Sentiment'] == 'Negative')]"
   ]
  },
  {
   "cell_type": "code",
   "execution_count": null,
   "id": "8c910b80",
   "metadata": {},
   "outputs": [],
   "source": [
    "positive_sentiments = df_withpola[(df_withpola['Labels'] == 0) & (df_withpola['Sentiment'] == 'Positive')]"
   ]
  },
  {
   "cell_type": "markdown",
   "id": "c509c269",
   "metadata": {},
   "source": [
    "### Here we have individiated potential mismatches in the data : \n",
    "- 5961 data samples have a positive score but the sentiment analysis model detected a negative sentiment\n",
    "- 22400 ata samples have a negative score but the sentiment analysis model detected a positive sentiment"
   ]
  }
 ],
 "metadata": {
  "kernelspec": {
   "display_name": "Python 3 (ipykernel)",
   "language": "python",
   "name": "python3"
  },
  "language_info": {
   "codemirror_mode": {
    "name": "ipython",
    "version": 3
   },
   "file_extension": ".py",
   "mimetype": "text/x-python",
   "name": "python",
   "nbconvert_exporter": "python",
   "pygments_lexer": "ipython3",
   "version": "3.10.13"
  }
 },
 "nbformat": 4,
 "nbformat_minor": 5
}
